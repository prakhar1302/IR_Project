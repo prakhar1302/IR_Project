{
  "cells": [
    {
      "cell_type": "markdown",
      "metadata": {
        "id": "Rn1GOhdg_Iwu"
      },
      "source": [
        "#Importing all the required Libraries."
      ]
    },
    {
      "cell_type": "code",
      "source": [
        "pip install pyspellchecker"
      ],
      "metadata": {
        "id": "vlHswujRD-yM",
        "colab": {
          "base_uri": "https://localhost:8080/"
        },
        "outputId": "24846006-1e15-4971-d238-fce6d10fa6b4"
      },
      "execution_count": 1,
      "outputs": [
        {
          "output_type": "stream",
          "name": "stdout",
          "text": [
            "Collecting pyspellchecker\n",
            "  Downloading pyspellchecker-0.8.1-py3-none-any.whl (6.8 MB)\n",
            "\u001b[2K     \u001b[90m━━━━━━━━━━━━━━━━━━━━━━━━━━━━━━━━━━━━━━━━\u001b[0m \u001b[32m6.8/6.8 MB\u001b[0m \u001b[31m18.0 MB/s\u001b[0m eta \u001b[36m0:00:00\u001b[0m\n",
            "\u001b[?25hInstalling collected packages: pyspellchecker\n",
            "Successfully installed pyspellchecker-0.8.1\n"
          ]
        }
      ]
    },
    {
      "cell_type": "code",
      "execution_count": 2,
      "metadata": {
        "id": "_1zn9-HV_Gvk"
      },
      "outputs": [],
      "source": [
        "import  pandas as pd\n",
        "import numpy as np\n",
        "\n",
        "import seaborn as sns\n",
        "import matplotlib.pyplot as plt\n",
        "\n",
        
        "from sklearn.model_selection import train_test_split\n",
        "from sklearn.preprocessing import LabelEncoder\n",
        "\n",
        "from sklearn.datasets import make_classification\n",
        "from sklearn.model_selection import train_test_split\n",
        "from sklearn.svm import SVC\n",
        "from sklearn.ensemble import RandomForestClassifier, GradientBoostingClassifier\n",
        "from sklearn.neighbors import KNeighborsClassifier\n",
        "from sklearn.naive_bayes import MultinomialNB\n",
        "from sklearn.metrics import accuracy_score, confusion_matrix\n",
        "from sklearn.utils import shuffle\n",
        "\n",
        "import tensorflow as tf\n",
        "from tensorflow import keras\n",
        "\n",
        "import pickle\n",
        "\n",
        "from spellchecker import SpellChecker\n",
        "from sklearn.metrics.pairwise import cosine_similarity\n",
        "from sklearn.feature_extraction.text import TfidfVectorizer\n"
      ]
    },
    {
      "cell_type": "markdown",
      "metadata": {
        "id": "_zQG8aHIAp50"
      },
      "source": [
        "#EDA on the Dataset"
      ]
    },
    {
      "cell_type": "code",
      "execution_count": 3,
      "metadata": {
        "colab": {
          "base_uri": "https://localhost:8080/"
        },
        "id": "iHSZ3R5a54HN",
        "outputId": "872b3aa2-4829-43c5-c4b9-40356aec5150"
      },
      "outputs": [
        {
          "output_type": "stream",
          "name": "stdout",
          "text": [
            "<class 'pandas.core.frame.DataFrame'>\n",
            "RangeIndex: 4920 entries, 0 to 4919\n",
            "Columns: 133 entries, itching to prognosis\n",
            "dtypes: int64(132), object(1)\n",
            "memory usage: 5.0+ MB\n",
            "None\n",
            "           itching    skin_rash  nodal_skin_eruptions  continuous_sneezing  \\\n",
            "count  4920.000000  4920.000000           4920.000000          4920.000000   \n",
            "mean      0.137805     0.159756              0.021951             0.045122   \n",
            "std       0.344730     0.366417              0.146539             0.207593   \n",
            "min       0.000000     0.000000              0.000000             0.000000   \n",
            "25%       0.000000     0.000000              0.000000             0.000000   \n",
            "50%       0.000000     0.000000              0.000000             0.000000   \n",
            "75%       0.000000     0.000000              0.000000             0.000000   \n",
            "max       1.000000     1.000000              1.000000             1.000000   \n",
            "\n",
            "         shivering       chills   joint_pain  stomach_pain      acidity  \\\n",
            "count  4920.000000  4920.000000  4920.000000   4920.000000  4920.000000   \n",
            "mean      0.021951     0.162195     0.139024      0.045122     0.045122   \n",
            "std       0.146539     0.368667     0.346007      0.207593     0.207593   \n",
            "min       0.000000     0.000000     0.000000      0.000000     0.000000   \n",
            "25%       0.000000     0.000000     0.000000      0.000000     0.000000   \n",
            "50%       0.000000     0.000000     0.000000      0.000000     0.000000   \n",
            "75%       0.000000     0.000000     0.000000      0.000000     0.000000   \n",
            "max       1.000000     1.000000     1.000000      1.000000     1.000000   \n",
            "\n",
            "       ulcers_on_tongue  ...  pus_filled_pimples   blackheads     scurring  \\\n",
            "count       4920.000000  ...         4920.000000  4920.000000  4920.000000   \n",
            "mean           0.021951  ...            0.021951     0.021951     0.021951   \n",
            "std            0.146539  ...            0.146539     0.146539     0.146539   \n",
            "min            0.000000  ...            0.000000     0.000000     0.000000   \n",
            "25%            0.000000  ...            0.000000     0.000000     0.000000   \n",
            "50%            0.000000  ...            0.000000     0.000000     0.000000   \n",
            "75%            0.000000  ...            0.000000     0.000000     0.000000   \n",
            "max            1.000000  ...            1.000000     1.000000     1.000000   \n",
            "\n",
            "       skin_peeling  silver_like_dusting  small_dents_in_nails  \\\n",
            "count   4920.000000          4920.000000           4920.000000   \n",
            "mean       0.023171             0.023171              0.023171   \n",
            "std        0.150461             0.150461              0.150461   \n",
            "min        0.000000             0.000000              0.000000   \n",
            "25%        0.000000             0.000000              0.000000   \n",
            "50%        0.000000             0.000000              0.000000   \n",
            "75%        0.000000             0.000000              0.000000   \n",
            "max        1.000000             1.000000              1.000000   \n",
            "\n",
            "       inflammatory_nails      blister  red_sore_around_nose  \\\n",
            "count         4920.000000  4920.000000           4920.000000   \n",
            "mean             0.023171     0.023171              0.023171   \n",
            "std              0.150461     0.150461              0.150461   \n",
            "min              0.000000     0.000000              0.000000   \n",
            "25%              0.000000     0.000000              0.000000   \n",
            "50%              0.000000     0.000000              0.000000   \n",
            "75%              0.000000     0.000000              0.000000   \n",
            "max              1.000000     1.000000              1.000000   \n",
            "\n",
            "       yellow_crust_ooze  \n",
            "count        4920.000000  \n",
            "mean            0.023171  \n",
            "std             0.150461  \n",
            "min             0.000000  \n",
            "25%             0.000000  \n",
            "50%             0.000000  \n",
            "75%             0.000000  \n",
            "max             1.000000  \n",
            "\n",
            "[8 rows x 132 columns]\n",
            "itching                 0\n",
            "skin_rash               0\n",
            "nodal_skin_eruptions    0\n",
            "continuous_sneezing     0\n",
            "shivering               0\n",
            "                       ..\n",
            "inflammatory_nails      0\n",
            "blister                 0\n",
            "red_sore_around_nose    0\n",
            "yellow_crust_ooze       0\n",
            "prognosis               0\n",
            "Length: 133, dtype: int64\n"
          ]
        }
      ],
      "source": [
        "# Loading of the dataset\n",
        "# Assuming your dataset is in a CSV file named 'your_dataset.csv'\n",
        "df = pd.read_csv('Training.csv')\n",
        "\n",
        "# Display basic information about the dataset\n",
        "print(df.info())\n",
        "\n",
        "# Display summary statistics\n",
        "print(df.describe())\n",
        "\n",
        "# Check for missing values\n",
        "print(df.isnull().sum())\n"
      ]
    },
    {
      "cell_type": "code",
      "execution_count": null,
      "metadata": {
        "id": "aVeq0cswA5fX"
      },
      "outputs": [],
      "source": [
        "# Visualize the distribution of the target variable with rotated x-axis labels and adjusted figure size\n",
        "plt.figure(figsize=(12, 6))  # Adjust the figure size as needed\n",
        "sns.countplot(x='prognosis', data=df)\n",
        "plt.title('Distribution of Target Variable')\n",
        "plt.xticks(rotation=45, ha='right')  # Rotate x-axis labels for better readability\n",
        "plt.tight_layout()  # Adjust layout for better spacing\n",
        "plt.show()\n"
      ]
    },
    {
      "cell_type": "code",
      "execution_count": null,
      "metadata": {
        "id": "ZRdN7RfSA8tK"
      },
      "outputs": [],
      "source": [
        "# Univariate analysis for some features\n",
        "# Assuming 'itching', 'skin_rash', 'joint_pain' are three symptom columns\n",
        "sns.countplot(x='itching', data=df)\n",
        "plt.title('Distribution of Itching')\n",
        "plt.show()\n"
      ]
    },
    {
      "cell_type": "code",
      "execution_count": null,
      "metadata": {
        "id": "sef_pMnpBsGP"
      },
      "outputs": [],
      "source": [
        "sns.countplot(x='skin_rash', data=df)\n",
        "plt.title('Distribution of Skin Rash')\n",
        "plt.show()"
      ]
    },
    {
      "cell_type": "code",
      "execution_count": null,
      "metadata": {
        "id": "_wo6WA0QBxcF"
      },
      "outputs": [],
      "source": [
        "sns.countplot(x='joint_pain', data=df)\n",
        "plt.title('Distribution of Joint Pain')\n",
        "plt.show()"
      ]
    },
    {
      "cell_type": "code",
      "execution_count": null,
      "metadata": {
        "id": "YH6kjlLbByw4"
      },
      "outputs": [],
      "source": [
        "# Correlation matrix and heatmap\n",
        "plt.figure(figsize=(10, 10))\n",
        "correlation_matrix = df.corr()\n",
        "sns.heatmap(correlation_matrix, cmap='coolwarm', annot=False)\n",
        "plt.title('Correlation Matrix')\n",
        "plt.show()"
      ]
    },
    {
      "cell_type": "code",
      "execution_count": null,
      "metadata": {
        "id": "ig3QKt3qB0_M"
      },
      "outputs": [],
      "source": [
        "# Box plot for a categorical feature (assuming there is a symptom column named 'itching')\n",
        "plt.figure(figsize=(10, 10))\n",
        "sns.countplot(x='prognosis', hue='itching', data=df)\n",
        "plt.title('Distribution of Itching for Different Prognoses')\n",
        "plt.legend(title='Itching', labels=['No', 'Yes'])\n",
        "plt.xticks(rotation=45, ha='right')  # Rotate x-axis labels for better readability\n",
        "plt.tight_layout()  # Adjust layout for better spacing\n",
        "plt.show()\n"
      ]
    },
    {
      "cell_type": "markdown",
      "metadata": {
        "id": "2GnZfYOgDmwa"
      },
      "source": [
        "## Splitting the data into train and test, Label Encoding the \"prognosis\" column"
      ]
    },
    {
      "cell_type": "code",
      "source": [
        "df"
      ],
      "metadata": {
        "colab": {
          "base_uri": "https://localhost:8080/",
          "height": 617
        },
        "id": "k16znjmiF5k0",
        "outputId": "a4f3c6b2-4344-4437-a2c2-8c2833d9036c"
      },
      "execution_count": 4,
      "outputs": [
        {
          "output_type": "execute_result",
          "data": {
            "text/plain": [
              "      itching  skin_rash  nodal_skin_eruptions  continuous_sneezing  \\\n",
              "0           1          1                     1                    0   \n",
              "1           0          1                     1                    0   \n",
              "2           1          0                     1                    0   \n",
              "3           1          1                     0                    0   \n",
              "4           1          1                     1                    0   \n",
              "...       ...        ...                   ...                  ...   \n",
              "4915        0          0                     0                    0   \n",
              "4916        0          1                     0                    0   \n",
              "4917        0          0                     0                    0   \n",
              "4918        0          1                     0                    0   \n",
              "4919        0          1                     0                    0   \n",
              "\n",
              "      shivering  chills  joint_pain  stomach_pain  acidity  ulcers_on_tongue  \\\n",
              "0             0       0           0             0        0                 0   \n",
              "1             0       0           0             0        0                 0   \n",
              "2             0       0           0             0        0                 0   \n",
              "3             0       0           0             0        0                 0   \n",
              "4             0       0           0             0        0                 0   \n",
              "...         ...     ...         ...           ...      ...               ...   \n",
              "4915          0       0           0             0        0                 0   \n",
              "4916          0       0           0             0        0                 0   \n",
              "4917          0       0           0             0        0                 0   \n",
              "4918          0       0           1             0        0                 0   \n",
              "4919          0       0           0             0        0                 0   \n",
              "\n",
              "      ...  blackheads  scurring  skin_peeling  silver_like_dusting  \\\n",
              "0     ...           0         0             0                    0   \n",
              "1     ...           0         0             0                    0   \n",
              "2     ...           0         0             0                    0   \n",
              "3     ...           0         0             0                    0   \n",
              "4     ...           0         0             0                    0   \n",
              "...   ...         ...       ...           ...                  ...   \n",
              "4915  ...           0         0             0                    0   \n",
              "4916  ...           1         1             0                    0   \n",
              "4917  ...           0         0             0                    0   \n",
              "4918  ...           0         0             1                    1   \n",
              "4919  ...           0         0             0                    0   \n",
              "\n",
              "      small_dents_in_nails  inflammatory_nails  blister  red_sore_around_nose  \\\n",
              "0                        0                   0        0                     0   \n",
              "1                        0                   0        0                     0   \n",
              "2                        0                   0        0                     0   \n",
              "3                        0                   0        0                     0   \n",
              "4                        0                   0        0                     0   \n",
              "...                    ...                 ...      ...                   ...   \n",
              "4915                     0                   0        0                     0   \n",
              "4916                     0                   0        0                     0   \n",
              "4917                     0                   0        0                     0   \n",
              "4918                     1                   1        0                     0   \n",
              "4919                     0                   0        1                     1   \n",
              "\n",
              "      yellow_crust_ooze                                prognosis  \n",
              "0                     0                         Fungal infection  \n",
              "1                     0                         Fungal infection  \n",
              "2                     0                         Fungal infection  \n",
              "3                     0                         Fungal infection  \n",
              "4                     0                         Fungal infection  \n",
              "...                 ...                                      ...  \n",
              "4915                  0  (vertigo) Paroymsal  Positional Vertigo  \n",
              "4916                  0                                     Acne  \n",
              "4917                  0                  Urinary tract infection  \n",
              "4918                  0                                Psoriasis  \n",
              "4919                  1                                 Impetigo  \n",
              "\n",
              "[4920 rows x 133 columns]"
            ],
            "text/html": [
              "\n",
              "  <div id=\"df-e209813e-dac8-4603-affb-c597026b44db\" class=\"colab-df-container\">\n",
              "    <div>\n",
              "<style scoped>\n",
              "    .dataframe tbody tr th:only-of-type {\n",
              "        vertical-align: middle;\n",
              "    }\n",
              "\n",
              "    .dataframe tbody tr th {\n",
              "        vertical-align: top;\n",
              "    }\n",
              "\n",
              "    .dataframe thead th {\n",
              "        text-align: right;\n",
              "    }\n",
              "</style>\n",
              "<table border=\"1\" class=\"dataframe\">\n",
              "  <thead>\n",
              "    <tr style=\"text-align: right;\">\n",
              "      <th></th>\n",
              "      <th>itching</th>\n",
              "      <th>skin_rash</th>\n",
              "      <th>nodal_skin_eruptions</th>\n",
              "      <th>continuous_sneezing</th>\n",
              "      <th>shivering</th>\n",
              "      <th>chills</th>\n",
              "      <th>joint_pain</th>\n",
              "      <th>stomach_pain</th>\n",
              "      <th>acidity</th>\n",
              "      <th>ulcers_on_tongue</th>\n",
              "      <th>...</th>\n",
              "      <th>blackheads</th>\n",
              "      <th>scurring</th>\n",
              "      <th>skin_peeling</th>\n",
              "      <th>silver_like_dusting</th>\n",
              "      <th>small_dents_in_nails</th>\n",
              "      <th>inflammatory_nails</th>\n",
              "      <th>blister</th>\n",
              "      <th>red_sore_around_nose</th>\n",
              "      <th>yellow_crust_ooze</th>\n",
              "      <th>prognosis</th>\n",
              "    </tr>\n",
              "  </thead>\n",
              "  <tbody>\n",
              "    <tr>\n",
              "      <th>0</th>\n",
              "      <td>1</td>\n",
              "      <td>1</td>\n",
              "      <td>1</td>\n",
              "      <td>0</td>\n",
              "      <td>0</td>\n",
              "      <td>0</td>\n",
              "      <td>0</td>\n",
              "      <td>0</td>\n",
              "      <td>0</td>\n",
              "      <td>0</td>\n",
              "      <td>...</td>\n",
              "      <td>0</td>\n",
              "      <td>0</td>\n",
              "      <td>0</td>\n",
              "      <td>0</td>\n",
              "      <td>0</td>\n",
              "      <td>0</td>\n",
              "      <td>0</td>\n",
              "      <td>0</td>\n",
              "      <td>0</td>\n",
              "      <td>Fungal infection</td>\n",
              "    </tr>\n",
              "    <tr>\n",
              "      <th>1</th>\n",
              "      <td>0</td>\n",
              "      <td>1</td>\n",
              "      <td>1</td>\n",
              "      <td>0</td>\n",
              "      <td>0</td>\n",
              "      <td>0</td>\n",
              "      <td>0</td>\n",
              "      <td>0</td>\n",
              "      <td>0</td>\n",
              "      <td>0</td>\n",
              "      <td>...</td>\n",
              "      <td>0</td>\n",
              "      <td>0</td>\n",
              "      <td>0</td>\n",
              "      <td>0</td>\n",
              "      <td>0</td>\n",
              "      <td>0</td>\n",
              "      <td>0</td>\n",
              "      <td>0</td>\n",
              "      <td>0</td>\n",
              "      <td>Fungal infection</td>\n",
              "    </tr>\n",
              "    <tr>\n",
              "      <th>2</th>\n",
              "      <td>1</td>\n",
              "      <td>0</td>\n",
              "      <td>1</td>\n",
              "      <td>0</td>\n",
              "      <td>0</td>\n",
              "      <td>0</td>\n",
              "      <td>0</td>\n",
              "      <td>0</td>\n",
              "      <td>0</td>\n",
              "      <td>0</td>\n",
              "      <td>...</td>\n",
              "      <td>0</td>\n",
              "      <td>0</td>\n",
              "      <td>0</td>\n",
              "      <td>0</td>\n",
              "      <td>0</td>\n",
              "      <td>0</td>\n",
              "      <td>0</td>\n",
              "      <td>0</td>\n",
              "      <td>0</td>\n",
              "      <td>Fungal infection</td>\n",
              "    </tr>\n",
              "    <tr>\n",
              "      <th>3</th>\n",
              "      <td>1</td>\n",
              "      <td>1</td>\n",
              "      <td>0</td>\n",
              "      <td>0</td>\n",
              "      <td>0</td>\n",
              "      <td>0</td>\n",
              "      <td>0</td>\n",
              "      <td>0</td>\n",
              "      <td>0</td>\n",
              "      <td>0</td>\n",
              "      <td>...</td>\n",
              "      <td>0</td>\n",
              "      <td>0</td>\n",
              "      <td>0</td>\n",
              "      <td>0</td>\n",
              "      <td>0</td>\n",
              "      <td>0</td>\n",
              "      <td>0</td>\n",
              "      <td>0</td>\n",
              "      <td>0</td>\n",
              "      <td>Fungal infection</td>\n",
              "    </tr>\n",
              "    <tr>\n",
              "      <th>4</th>\n",
              "      <td>1</td>\n",
              "      <td>1</td>\n",
              "      <td>1</td>\n",
              "      <td>0</td>\n",
              "      <td>0</td>\n",
              "      <td>0</td>\n",
              "      <td>0</td>\n",
              "      <td>0</td>\n",
              "      <td>0</td>\n",
              "      <td>0</td>\n",
              "      <td>...</td>\n",
              "      <td>0</td>\n",
              "      <td>0</td>\n",
              "      <td>0</td>\n",
              "      <td>0</td>\n",
              "      <td>0</td>\n",
              "      <td>0</td>\n",
              "      <td>0</td>\n",
              "      <td>0</td>\n",
              "      <td>0</td>\n",
              "      <td>Fungal infection</td>\n",
              "    </tr>\n",
              "    <tr>\n",
              "      <th>...</th>\n",
              "      <td>...</td>\n",
              "      <td>...</td>\n",
              "      <td>...</td>\n",
              "      <td>...</td>\n",
              "      <td>...</td>\n",
              "      <td>...</td>\n",
              "      <td>...</td>\n",
              "      <td>...</td>\n",
              "      <td>...</td>\n",
              "      <td>...</td>\n",
              "      <td>...</td>\n",
              "      <td>...</td>\n",
              "      <td>...</td>\n",
              "      <td>...</td>\n",
              "      <td>...</td>\n",
              "      <td>...</td>\n",
              "      <td>...</td>\n",
              "      <td>...</td>\n",
              "      <td>...</td>\n",
              "      <td>...</td>\n",
              "      <td>...</td>\n",
              "    </tr>\n",
              "    <tr>\n",
              "      <th>4915</th>\n",
              "      <td>0</td>\n",
              "      <td>0</td>\n",
              "      <td>0</td>\n",
              "      <td>0</td>\n",
              "      <td>0</td>\n",
              "      <td>0</td>\n",
              "      <td>0</td>\n",
              "      <td>0</td>\n",
              "      <td>0</td>\n",
              "      <td>0</td>\n",
              "      <td>...</td>\n",
              "      <td>0</td>\n",
              "      <td>0</td>\n",
              "      <td>0</td>\n",
              "      <td>0</td>\n",
              "      <td>0</td>\n",
              "      <td>0</td>\n",
              "      <td>0</td>\n",
              "      <td>0</td>\n",
              "      <td>0</td>\n",
              "      <td>(vertigo) Paroymsal  Positional Vertigo</td>\n",
              "    </tr>\n",
              "    <tr>\n",
              "      <th>4916</th>\n",
              "      <td>0</td>\n",
              "      <td>1</td>\n",
              "      <td>0</td>\n",
              "      <td>0</td>\n",
              "      <td>0</td>\n",
              "      <td>0</td>\n",
              "      <td>0</td>\n",
              "      <td>0</td>\n",
              "      <td>0</td>\n",
              "      <td>0</td>\n",
              "      <td>...</td>\n",
              "      <td>1</td>\n",
              "      <td>1</td>\n",
              "      <td>0</td>\n",
              "      <td>0</td>\n",
              "      <td>0</td>\n",
              "      <td>0</td>\n",
              "      <td>0</td>\n",
              "      <td>0</td>\n",
              "      <td>0</td>\n",
              "      <td>Acne</td>\n",
              "    </tr>\n",
              "    <tr>\n",
              "      <th>4917</th>\n",
              "      <td>0</td>\n",
              "      <td>0</td>\n",
              "      <td>0</td>\n",
              "      <td>0</td>\n",
              "      <td>0</td>\n",
              "      <td>0</td>\n",
              "      <td>0</td>\n",
              "      <td>0</td>\n",
              "      <td>0</td>\n",
              "      <td>0</td>\n",
              "      <td>...</td>\n",
              "      <td>0</td>\n",
              "      <td>0</td>\n",
              "      <td>0</td>\n",
              "      <td>0</td>\n",
              "      <td>0</td>\n",
              "      <td>0</td>\n",
              "      <td>0</td>\n",
              "      <td>0</td>\n",
              "      <td>0</td>\n",
              "      <td>Urinary tract infection</td>\n",
              "    </tr>\n",
              "    <tr>\n",
              "      <th>4918</th>\n",
              "      <td>0</td>\n",
              "      <td>1</td>\n",
              "      <td>0</td>\n",
              "      <td>0</td>\n",
              "      <td>0</td>\n",
              "      <td>0</td>\n",
              "      <td>1</td>\n",
              "      <td>0</td>\n",
              "      <td>0</td>\n",
              "      <td>0</td>\n",
              "      <td>...</td>\n",
              "      <td>0</td>\n",
              "      <td>0</td>\n",
              "      <td>1</td>\n",
              "      <td>1</td>\n",
              "      <td>1</td>\n",
              "      <td>1</td>\n",
              "      <td>0</td>\n",
              "      <td>0</td>\n",
              "      <td>0</td>\n",
              "      <td>Psoriasis</td>\n",
              "    </tr>\n",
              "    <tr>\n",
              "      <th>4919</th>\n",
              "      <td>0</td>\n",
              "      <td>1</td>\n",
              "      <td>0</td>\n",
              "      <td>0</td>\n",
              "      <td>0</td>\n",
              "      <td>0</td>\n",
              "      <td>0</td>\n",
              "      <td>0</td>\n",
              "      <td>0</td>\n",
              "      <td>0</td>\n",
              "      <td>...</td>\n",
              "      <td>0</td>\n",
              "      <td>0</td>\n",
              "      <td>0</td>\n",
              "      <td>0</td>\n",
              "      <td>0</td>\n",
              "      <td>0</td>\n",
              "      <td>1</td>\n",
              "      <td>1</td>\n",
              "      <td>1</td>\n",
              "      <td>Impetigo</td>\n",
              "    </tr>\n",
              "  </tbody>\n",
              "</table>\n",
              "<p>4920 rows × 133 columns</p>\n",
              "</div>\n",
              "    <div class=\"colab-df-buttons\">\n",
              "\n",
              "  <div class=\"colab-df-container\">\n",
              "    <button class=\"colab-df-convert\" onclick=\"convertToInteractive('df-e209813e-dac8-4603-affb-c597026b44db')\"\n",
              "            title=\"Convert this dataframe to an interactive table.\"\n",
              "            style=\"display:none;\">\n",
              "\n",
              "  <svg xmlns=\"http://www.w3.org/2000/svg\" height=\"24px\" viewBox=\"0 -960 960 960\">\n",
              "    <path d=\"M120-120v-720h720v720H120Zm60-500h600v-160H180v160Zm220 220h160v-160H400v160Zm0 220h160v-160H400v160ZM180-400h160v-160H180v160Zm440 0h160v-160H620v160ZM180-180h160v-160H180v160Zm440 0h160v-160H620v160Z\"/>\n",
              "  </svg>\n",
              "    </button>\n",
              "\n",
              "  <style>\n",
              "    .colab-df-container {\n",
              "      display:flex;\n",
              "      gap: 12px;\n",
              "    }\n",
              "\n",
              "    .colab-df-convert {\n",
              "      background-color: #E8F0FE;\n",
              "      border: none;\n",
              "      border-radius: 50%;\n",
              "      cursor: pointer;\n",
              "      display: none;\n",
              "      fill: #1967D2;\n",
              "      height: 32px;\n",
              "      padding: 0 0 0 0;\n",
              "      width: 32px;\n",
              "    }\n",
              "\n",
              "    .colab-df-convert:hover {\n",
              "      background-color: #E2EBFA;\n",
              "      box-shadow: 0px 1px 2px rgba(60, 64, 67, 0.3), 0px 1px 3px 1px rgba(60, 64, 67, 0.15);\n",
              "      fill: #174EA6;\n",
              "    }\n",
              "\n",
              "    .colab-df-buttons div {\n",
              "      margin-bottom: 4px;\n",
              "    }\n",
              "\n",
              "    [theme=dark] .colab-df-convert {\n",
              "      background-color: #3B4455;\n",
              "      fill: #D2E3FC;\n",
              "    }\n",
              "\n",
              "    [theme=dark] .colab-df-convert:hover {\n",
              "      background-color: #434B5C;\n",
              "      box-shadow: 0px 1px 3px 1px rgba(0, 0, 0, 0.15);\n",
              "      filter: drop-shadow(0px 1px 2px rgba(0, 0, 0, 0.3));\n",
              "      fill: #FFFFFF;\n",
              "    }\n",
              "  </style>\n",
              "\n",
              "    <script>\n",
              "      const buttonEl =\n",
              "        document.querySelector('#df-e209813e-dac8-4603-affb-c597026b44db button.colab-df-convert');\n",
              "      buttonEl.style.display =\n",
              "        google.colab.kernel.accessAllowed ? 'block' : 'none';\n",
              "\n",
              "      async function convertToInteractive(key) {\n",
              "        const element = document.querySelector('#df-e209813e-dac8-4603-affb-c597026b44db');\n",
              "        const dataTable =\n",
              "          await google.colab.kernel.invokeFunction('convertToInteractive',\n",
              "                                                    [key], {});\n",
              "        if (!dataTable) return;\n",
              "\n",
              "        const docLinkHtml = 'Like what you see? Visit the ' +\n",
              "          '<a target=\"_blank\" href=https://colab.research.google.com/notebooks/data_table.ipynb>data table notebook</a>'\n",
              "          + ' to learn more about interactive tables.';\n",
              "        element.innerHTML = '';\n",
              "        dataTable['output_type'] = 'display_data';\n",
              "        await google.colab.output.renderOutput(dataTable, element);\n",
              "        const docLink = document.createElement('div');\n",
              "        docLink.innerHTML = docLinkHtml;\n",
              "        element.appendChild(docLink);\n",
              "      }\n",
              "    </script>\n",
              "  </div>\n",
              "\n",
              "\n",
              "<div id=\"df-863b3480-2524-4bdf-b602-4a24ae12ad90\">\n",
              "  <button class=\"colab-df-quickchart\" onclick=\"quickchart('df-863b3480-2524-4bdf-b602-4a24ae12ad90')\"\n",
              "            title=\"Suggest charts\"\n",
              "            style=\"display:none;\">\n",
              "\n",
              "<svg xmlns=\"http://www.w3.org/2000/svg\" height=\"24px\"viewBox=\"0 0 24 24\"\n",
              "     width=\"24px\">\n",
              "    <g>\n",
              "        <path d=\"M19 3H5c-1.1 0-2 .9-2 2v14c0 1.1.9 2 2 2h14c1.1 0 2-.9 2-2V5c0-1.1-.9-2-2-2zM9 17H7v-7h2v7zm4 0h-2V7h2v10zm4 0h-2v-4h2v4z\"/>\n",
              "    </g>\n",
              "</svg>\n",
              "  </button>\n",
              "\n",
              "<style>\n",
              "  .colab-df-quickchart {\n",
              "      --bg-color: #E8F0FE;\n",
              "      --fill-color: #1967D2;\n",
              "      --hover-bg-color: #E2EBFA;\n",
              "      --hover-fill-color: #174EA6;\n",
              "      --disabled-fill-color: #AAA;\n",
              "      --disabled-bg-color: #DDD;\n",
              "  }\n",
              "\n",
              "  [theme=dark] .colab-df-quickchart {\n",
              "      --bg-color: #3B4455;\n",
              "      --fill-color: #D2E3FC;\n",
              "      --hover-bg-color: #434B5C;\n",
              "      --hover-fill-color: #FFFFFF;\n",
              "      --disabled-bg-color: #3B4455;\n",
              "      --disabled-fill-color: #666;\n",
              "  }\n",
              "\n",
              "  .colab-df-quickchart {\n",
              "    background-color: var(--bg-color);\n",
              "    border: none;\n",
              "    border-radius: 50%;\n",
              "    cursor: pointer;\n",
              "    display: none;\n",
              "    fill: var(--fill-color);\n",
              "    height: 32px;\n",
              "    padding: 0;\n",
              "    width: 32px;\n",
              "  }\n",
              "\n",
              "  .colab-df-quickchart:hover {\n",
              "    background-color: var(--hover-bg-color);\n",
              "    box-shadow: 0 1px 2px rgba(60, 64, 67, 0.3), 0 1px 3px 1px rgba(60, 64, 67, 0.15);\n",
              "    fill: var(--button-hover-fill-color);\n",
              "  }\n",
              "\n",
              "  .colab-df-quickchart-complete:disabled,\n",
              "  .colab-df-quickchart-complete:disabled:hover {\n",
              "    background-color: var(--disabled-bg-color);\n",
              "    fill: var(--disabled-fill-color);\n",
              "    box-shadow: none;\n",
              "  }\n",
              "\n",
              "  .colab-df-spinner {\n",
              "    border: 2px solid var(--fill-color);\n",
              "    border-color: transparent;\n",
              "    border-bottom-color: var(--fill-color);\n",
              "    animation:\n",
              "      spin 1s steps(1) infinite;\n",
              "  }\n",
              "\n",
              "  @keyframes spin {\n",
              "    0% {\n",
              "      border-color: transparent;\n",
              "      border-bottom-color: var(--fill-color);\n",
              "      border-left-color: var(--fill-color);\n",
              "    }\n",
              "    20% {\n",
              "      border-color: transparent;\n",
              "      border-left-color: var(--fill-color);\n",
              "      border-top-color: var(--fill-color);\n",
              "    }\n",
              "    30% {\n",
              "      border-color: transparent;\n",
              "      border-left-color: var(--fill-color);\n",
              "      border-top-color: var(--fill-color);\n",
              "      border-right-color: var(--fill-color);\n",
              "    }\n",
              "    40% {\n",
              "      border-color: transparent;\n",
              "      border-right-color: var(--fill-color);\n",
              "      border-top-color: var(--fill-color);\n",
              "    }\n",
              "    60% {\n",
              "      border-color: transparent;\n",
              "      border-right-color: var(--fill-color);\n",
              "    }\n",
              "    80% {\n",
              "      border-color: transparent;\n",
              "      border-right-color: var(--fill-color);\n",
              "      border-bottom-color: var(--fill-color);\n",
              "    }\n",
              "    90% {\n",
              "      border-color: transparent;\n",
              "      border-bottom-color: var(--fill-color);\n",
              "    }\n",
              "  }\n",
              "</style>\n",
              "\n",
              "  <script>\n",
              "    async function quickchart(key) {\n",
              "      const quickchartButtonEl =\n",
              "        document.querySelector('#' + key + ' button');\n",
              "      quickchartButtonEl.disabled = true;  // To prevent multiple clicks.\n",
              "      quickchartButtonEl.classList.add('colab-df-spinner');\n",
              "      try {\n",
              "        const charts = await google.colab.kernel.invokeFunction(\n",
              "            'suggestCharts', [key], {});\n",
              "      } catch (error) {\n",
              "        console.error('Error during call to suggestCharts:', error);\n",
              "      }\n",
              "      quickchartButtonEl.classList.remove('colab-df-spinner');\n",
              "      quickchartButtonEl.classList.add('colab-df-quickchart-complete');\n",
              "    }\n",
              "    (() => {\n",
              "      let quickchartButtonEl =\n",
              "        document.querySelector('#df-863b3480-2524-4bdf-b602-4a24ae12ad90 button');\n",
              "      quickchartButtonEl.style.display =\n",
              "        google.colab.kernel.accessAllowed ? 'block' : 'none';\n",
              "    })();\n",
              "  </script>\n",
              "</div>\n",
              "    </div>\n",
              "  </div>\n"
            ],
            "application/vnd.google.colaboratory.intrinsic+json": {
              "type": "dataframe",
              "variable_name": "df"
            }
          },
          "metadata": {},
          "execution_count": 4
        }
      ]
    },
    {
      "cell_type": "markdown",
      "source": [
        "<H1> changes done here"
      ],
      "metadata": {
        "id": "Gs62q1f2fymv"
      }
    },
    {
      "cell_type": "code",
      "source": [
        "# diseases_list = {\n",
        "#     1: 'Fungal infection', 2: 'Allergy', 3: 'GERD', 4: 'Chronic cholestasis', 5: 'Drug Reaction', 6: 'Peptic ulcer disease',\n",
        "#     7: 'AIDS', 8: 'Diabetes', 9: 'Gastroenteritis', 10: 'Bronchial Asthma', 11: 'Hypertension', 12: 'Migraine', 13: 'Cervical spondylosis',\n",
        "#     14: 'Paralysis (brain hemorrhage)', 15: 'Jaundice', 16: 'Malaria', 17: 'Chicken pox', 18: 'Dengue', 19: 'Typhoid', 20: 'hepatitis A',\n",
        "#     21: 'hepatitis B', 22: 'hepatitis C', 23: 'hepatitis D', 24: 'Hepatitis E', 25: 'Alcoholic hepatitis', 26: 'Tuberculosis',\n",
        "#     27: 'Common Cold', 28: 'Pneumonia', 29: 'Dimorphic hemmorhoids(piles)', 30: 'Heart attack', 31: 'Varicose veins', 32: 'Hypothyroidism',\n",
        "#     33: 'Hyperthyroidism', 34: 'Hypoglycemia', 35: 'Osteoarthristis', 36: 'Arthritis', 37: '(vertigo) Paroymsal  Positional Vertigo',\n",
        "#     38: 'Acne', 39: 'Urinary tract infection', 40: 'Psoriasis', 41: 'Impetigo'\n",
        "# }\n",
        "\n",
        "diseases_list = {\n",
        "    1: 'Fungal infection', 2: 'Allergy', 5: 'Drug Reaction', 8: 'Diabetes', 9: 'Gastroenteritis', 10: 'Bronchial Asthma', 11: 'Hypertension', 12: 'Migraine',\n",
        "     15: 'Jaundice', 16: 'Malaria', 17: 'Chicken pox', 18: 'Dengue', 19: 'Typhoid', 20: 'hepatitis A',\n",
        "    21: 'hepatitis B', 22: 'hepatitis C', 23: 'hepatitis D', 24: 'Hepatitis E', 25: 'Alcoholic hepatitis', 26: 'Tuberculosis',\n",
        "    27: 'Common Cold', 28: 'Pneumonia', 29: 'Dimorphic hemmorhoids(piles)', 30: 'Heart attack', 31: 'Varicose veins', 32: 'Hypothyroidism',\n",
        "     36: 'Arthritis',\n",
        "    38: 'Acne'\n",
        "}\n",
        "\n",
        "reverse_diseases_list = {v: k for k, v in diseases_list.items()}"
      ],
      "metadata": {
        "id": "q3ieATyJHSbD"
      },
      "execution_count": 5,
      "outputs": []
    },
    {
      "cell_type": "code",
      "source": [
        "reverse_diseases_list = {k.lower(): v for k, v in reverse_diseases_list.items()}\n"
      ],
      "metadata": {
        "id": "qjSpx3G4S4By"
      },
      "execution_count": 6,
      "outputs": []
    },
    {
      "cell_type": "code",
      "source": [
        "test_value = df['prognosis'].iloc[0]  # Example: get the first entry\n",
        "mapped_value = reverse_diseases_list.get(test_value.lower(), test_value)\n",
        "print(f\"Original: {test_value}, Mapped: {mapped_value}\")"
      ],
      "metadata": {
        "id": "7GgluTyLSpp3",
        "colab": {
          "base_uri": "https://localhost:8080/"
        },
        "outputId": "9f34811e-dc38-4a7d-c679-9a08cdb06f7f"
      },
      "execution_count": null,
      "outputs": [
        {
          "output_type": "stream",
          "name": "stdout",
          "text": [
            "Original: Fungal infection, Mapped: 1\n"
          ]
        }
      ]
    },
    {
      "cell_type": "code",
      "execution_count": 7,
      "metadata": {
        "id": "Df1f3n-bDiHd"
      },
      "outputs": [],
      "source": [
        "df['prognosis'] = df['prognosis'].apply(lambda x: reverse_diseases_list.get(x.lower(), np.nan))\n",
        "\n",
        "\n"
      ]
    },
    {
      "cell_type": "code",
      "source": [
        "df_without_nan_columns = df.dropna()\n",
        "df_shuffled = shuffle(df_without_nan_columns, random_state=20)\n",
        "\n",
        "\n",
        "X = df_shuffled.drop('prognosis', axis=1)\n",
        "y = df_shuffled['prognosis']\n",
        "\n",
        "\n",
        "X_train, X_test, y_train, y_test = train_test_split(X, y, test_size=0.3, random_state=20)"
      ],
      "metadata": {
        "id": "kUKdRSG-NSg6"
      },
      "execution_count": 8,
      "outputs": []
    },
    {
      "cell_type": "code",
      "source": [
        "nan_count_prognosis = df['prognosis'].isna().sum()\n",
        "print(f\"Number of NaN values in 'prognosis': {nan_count_prognosis}\")"
      ],
      "metadata": {
        "colab": {
          "base_uri": "https://localhost:8080/"
        },
        "id": "QkRCBSlvF05y",
        "outputId": "8767a25f-cbb5-4d4f-9835-938f1e3b04ac"
      },
      "execution_count": 9,
      "outputs": [
        {
          "output_type": "stream",
          "name": "stdout",
          "text": [
            "Number of NaN values in 'prognosis': 1800\n"
          ]
        }
      ]
    },
    {
      "cell_type": "markdown",
      "metadata": {
        "id": "zzdwQbAuFt-_"
      },
      "source": [
        "## Applying Various Models on the Dataset"
      ]
    },
    {
      "cell_type": "code",
      "execution_count": 10,
      "metadata": {
        "id": "5VQVCpohFscx",
        "colab": {
          "base_uri": "https://localhost:8080/"
        },
        "outputId": "d054b1fc-c939-48c8-dfeb-b811af08a7dd"
      },
      "outputs": [
        {
          "output_type": "stream",
          "name": "stdout",
          "text": [
            "SVC Accuracy: 1.0\n",
            "SVC Confusion Matrix:\n",
            "[[36,  0,  0,  0,  0,  0,  0,  0,  0,  0,  0,  0,  0,  0,  0,  0,  0,  0,\n",
            "   0,  0,  0,  0,  0,  0,  0,  0],\n",
            " [ 0, 26,  0,  0,  0,  0,  0,  0,  0,  0,  0,  0,  0,  0,  0,  0,  0,  0,\n",
            "   0,  0,  0,  0,  0,  0,  0,  0],\n",
            " [ 0,  0, 30,  0,  0,  0,  0,  0,  0,  0,  0,  0,  0,  0,  0,  0,  0,  0,\n",
            "   0,  0,  0,  0,  0,  0,  0,  0],\n",
            " [ 0,  0,  0, 40,  0,  0,  0,  0,  0,  0,  0,  0,  0,  0,  0,  0,  0,  0,\n",
            "   0,  0,  0,  0,  0,  0,  0,  0],\n",
            " [ 0,  0,  0,  0, 33,  0,  0,  0,  0,  0,  0,  0,  0,  0,  0,  0,  0,  0,\n",
            "   0,  0,  0,  0,  0,  0,  0,  0],\n",
            " [ 0,  0,  0,  0,  0, 26,  0,  0,  0,  0,  0,  0,  0,  0,  0,  0,  0,  0,\n",
            "   0,  0,  0,  0,  0,  0,  0,  0],\n",
            " [ 0,  0,  0,  0,  0,  0, 28,  0,  0,  0,  0,  0,  0,  0,  0,  0,  0,  0,\n",
            "   0,  0,  0,  0,  0,  0,  0,  0],\n",
            " [ 0,  0,  0,  0,  0,  0,  0, 36,  0,  0,  0,  0,  0,  0,  0,  0,  0,  0,\n",
            "   0,  0,  0,  0,  0,  0,  0,  0],\n",
            " [ 0,  0,  0,  0,  0,  0,  0,  0, 37,  0,  0,  0,  0,  0,  0,  0,  0,  0,\n",
            "   0,  0,  0,  0,  0,  0,  0,  0],\n",
            " [ 0,  0,  0,  0,  0,  0,  0,  0,  0, 44,  0,  0,  0,  0,  0,  0,  0,  0,\n",
            "   0,  0,  0,  0,  0,  0,  0,  0],\n",
            " [ 0,  0,  0,  0,  0,  0,  0,  0,  0,  0, 38,  0,  0,  0,  0,  0,  0,  0,\n",
            "   0,  0,  0,  0,  0,  0,  0,  0],\n",
            " [ 0,  0,  0,  0,  0,  0,  0,  0,  0,  0,  0, 44,  0,  0,  0,  0,  0,  0,\n",
            "   0,  0,  0,  0,  0,  0,  0,  0],\n",
            " [ 0,  0,  0,  0,  0,  0,  0,  0,  0,  0,  0,  0, 33,  0,  0,  0,  0,  0,\n",
            "   0,  0,  0,  0,  0,  0,  0,  0],\n",
            " [ 0,  0,  0,  0,  0,  0,  0,  0,  0,  0,  0,  0,  0, 28,  0,  0,  0,  0,\n",
            "   0,  0,  0,  0,  0,  0,  0,  0],\n",
            " [ 0,  0,  0,  0,  0,  0,  0,  0,  0,  0,  0,  0,  0,  0, 34,  0,  0,  0,\n",
            "   0,  0,  0,  0,  0,  0,  0,  0],\n",
            " [ 0,  0,  0,  0,  0,  0,  0,  0,  0,  0,  0,  0,  0,  0,  0, 32,  0,  0,\n",
            "   0,  0,  0,  0,  0,  0,  0,  0],\n",
            " [ 0,  0,  0,  0,  0,  0,  0,  0,  0,  0,  0,  0,  0,  0,  0,  0, 42,  0,\n",
            "   0,  0,  0,  0,  0,  0,  0,  0],\n",
            " [ 0,  0,  0,  0,  0,  0,  0,  0,  0,  0,  0,  0,  0,  0,  0,  0,  0, 37,\n",
            "   0,  0,  0,  0,  0,  0,  0,  0],\n",
            " [ 0,  0,  0,  0,  0,  0,  0,  0,  0,  0,  0,  0,  0,  0,  0,  0,  0,  0,\n",
            "  37,  0,  0,  0,  0,  0,  0,  0],\n",
            " [ 0,  0,  0,  0,  0,  0,  0,  0,  0,  0,  0,  0,  0,  0,  0,  0,  0,  0,\n",
            "   0, 33,  0,  0,  0,  0,  0,  0],\n",
            " [ 0,  0,  0,  0,  0,  0,  0,  0,  0,  0,  0,  0,  0,  0,  0,  0,  0,  0,\n",
            "   0,  0, 47,  0,  0,  0,  0,  0],\n",
            " [ 0,  0,  0,  0,  0,  0,  0,  0,  0,  0,  0,  0,  0,  0,  0,  0,  0,  0,\n",
            "   0,  0,  0, 38,  0,  0,  0,  0],\n",
            " [ 0,  0,  0,  0,  0,  0,  0,  0,  0,  0,  0,  0,  0,  0,  0,  0,  0,  0,\n",
            "   0,  0,  0,  0, 37,  0,  0,  0],\n",
            " [ 0,  0,  0,  0,  0,  0,  0,  0,  0,  0,  0,  0,  0,  0,  0,  0,  0,  0,\n",
            "   0,  0,  0,  0,  0, 38,  0,  0],\n",
            " [ 0,  0,  0,  0,  0,  0,  0,  0,  0,  0,  0,  0,  0,  0,  0,  0,  0,  0,\n",
            "   0,  0,  0,  0,  0,  0, 43,  0],\n",
            " [ 0,  0,  0,  0,  0,  0,  0,  0,  0,  0,  0,  0,  0,  0,  0,  0,  0,  0,\n",
            "   0,  0,  0,  0,  0,  0,  0, 39]]\n"
          ]
        }
      ],
      "source": [
        "model_name1 = \"SVC\"\n",
        "model1 = SVC(kernel='linear')\n",
        "\n",
        "model1.fit(X_train, y_train)\n",
        "\n",
        "# Test the model\n",
        "predictions = model1.predict(X_test)\n",
        "\n",
        "# Calculate accuracy\n",
        "accuracy = accuracy_score(y_test, predictions)\n",
        "print(f\"{model_name1} Accuracy: {accuracy}\")\n",
        "\n",
        "# Calculate confusion matrix\n",
        "cm = confusion_matrix(y_test, predictions)\n",
        "print(f\"{model_name1} Confusion Matrix:\")\n",
        "print(np.array2string(cm, separator=', '))"
      ]
    },
    {
      "cell_type": "code",
      "execution_count": 11,
      "metadata": {
        "id": "7knJaZd_GUby",
        "colab": {
          "base_uri": "https://localhost:8080/"
        },
        "outputId": "d791b8ce-71bb-4b78-b0d1-d16dffd107f7"
      },
      "outputs": [
        {
          "output_type": "stream",
          "name": "stdout",
          "text": [
            "Random Forest Accuracy: 1.0\n",
            "Random Forest Confusion Matrix:\n",
            "[[36,  0,  0,  0,  0,  0,  0,  0,  0,  0,  0,  0,  0,  0,  0,  0,  0,  0,\n",
            "   0,  0,  0,  0,  0,  0,  0,  0],\n",
            " [ 0, 26,  0,  0,  0,  0,  0,  0,  0,  0,  0,  0,  0,  0,  0,  0,  0,  0,\n",
            "   0,  0,  0,  0,  0,  0,  0,  0],\n",
            " [ 0,  0, 30,  0,  0,  0,  0,  0,  0,  0,  0,  0,  0,  0,  0,  0,  0,  0,\n",
            "   0,  0,  0,  0,  0,  0,  0,  0],\n",
            " [ 0,  0,  0, 40,  0,  0,  0,  0,  0,  0,  0,  0,  0,  0,  0,  0,  0,  0,\n",
            "   0,  0,  0,  0,  0,  0,  0,  0],\n",
            " [ 0,  0,  0,  0, 33,  0,  0,  0,  0,  0,  0,  0,  0,  0,  0,  0,  0,  0,\n",
            "   0,  0,  0,  0,  0,  0,  0,  0],\n",
            " [ 0,  0,  0,  0,  0, 26,  0,  0,  0,  0,  0,  0,  0,  0,  0,  0,  0,  0,\n",
            "   0,  0,  0,  0,  0,  0,  0,  0],\n",
            " [ 0,  0,  0,  0,  0,  0, 28,  0,  0,  0,  0,  0,  0,  0,  0,  0,  0,  0,\n",
            "   0,  0,  0,  0,  0,  0,  0,  0],\n",
            " [ 0,  0,  0,  0,  0,  0,  0, 36,  0,  0,  0,  0,  0,  0,  0,  0,  0,  0,\n",
            "   0,  0,  0,  0,  0,  0,  0,  0],\n",
            " [ 0,  0,  0,  0,  0,  0,  0,  0, 37,  0,  0,  0,  0,  0,  0,  0,  0,  0,\n",
            "   0,  0,  0,  0,  0,  0,  0,  0],\n",
            " [ 0,  0,  0,  0,  0,  0,  0,  0,  0, 44,  0,  0,  0,  0,  0,  0,  0,  0,\n",
            "   0,  0,  0,  0,  0,  0,  0,  0],\n",
            " [ 0,  0,  0,  0,  0,  0,  0,  0,  0,  0, 38,  0,  0,  0,  0,  0,  0,  0,\n",
            "   0,  0,  0,  0,  0,  0,  0,  0],\n",
            " [ 0,  0,  0,  0,  0,  0,  0,  0,  0,  0,  0, 44,  0,  0,  0,  0,  0,  0,\n",
            "   0,  0,  0,  0,  0,  0,  0,  0],\n",
            " [ 0,  0,  0,  0,  0,  0,  0,  0,  0,  0,  0,  0, 33,  0,  0,  0,  0,  0,\n",
            "   0,  0,  0,  0,  0,  0,  0,  0],\n",
            " [ 0,  0,  0,  0,  0,  0,  0,  0,  0,  0,  0,  0,  0, 28,  0,  0,  0,  0,\n",
            "   0,  0,  0,  0,  0,  0,  0,  0],\n",
            " [ 0,  0,  0,  0,  0,  0,  0,  0,  0,  0,  0,  0,  0,  0, 34,  0,  0,  0,\n",
            "   0,  0,  0,  0,  0,  0,  0,  0],\n",
            " [ 0,  0,  0,  0,  0,  0,  0,  0,  0,  0,  0,  0,  0,  0,  0, 32,  0,  0,\n",
            "   0,  0,  0,  0,  0,  0,  0,  0],\n",
            " [ 0,  0,  0,  0,  0,  0,  0,  0,  0,  0,  0,  0,  0,  0,  0,  0, 42,  0,\n",
            "   0,  0,  0,  0,  0,  0,  0,  0],\n",
            " [ 0,  0,  0,  0,  0,  0,  0,  0,  0,  0,  0,  0,  0,  0,  0,  0,  0, 37,\n",
            "   0,  0,  0,  0,  0,  0,  0,  0],\n",
            " [ 0,  0,  0,  0,  0,  0,  0,  0,  0,  0,  0,  0,  0,  0,  0,  0,  0,  0,\n",
            "  37,  0,  0,  0,  0,  0,  0,  0],\n",
            " [ 0,  0,  0,  0,  0,  0,  0,  0,  0,  0,  0,  0,  0,  0,  0,  0,  0,  0,\n",
            "   0, 33,  0,  0,  0,  0,  0,  0],\n",
            " [ 0,  0,  0,  0,  0,  0,  0,  0,  0,  0,  0,  0,  0,  0,  0,  0,  0,  0,\n",
            "   0,  0, 47,  0,  0,  0,  0,  0],\n",
            " [ 0,  0,  0,  0,  0,  0,  0,  0,  0,  0,  0,  0,  0,  0,  0,  0,  0,  0,\n",
            "   0,  0,  0, 38,  0,  0,  0,  0],\n",
            " [ 0,  0,  0,  0,  0,  0,  0,  0,  0,  0,  0,  0,  0,  0,  0,  0,  0,  0,\n",
            "   0,  0,  0,  0, 37,  0,  0,  0],\n",
            " [ 0,  0,  0,  0,  0,  0,  0,  0,  0,  0,  0,  0,  0,  0,  0,  0,  0,  0,\n",
            "   0,  0,  0,  0,  0, 38,  0,  0],\n",
            " [ 0,  0,  0,  0,  0,  0,  0,  0,  0,  0,  0,  0,  0,  0,  0,  0,  0,  0,\n",
            "   0,  0,  0,  0,  0,  0, 43,  0],\n",
            " [ 0,  0,  0,  0,  0,  0,  0,  0,  0,  0,  0,  0,  0,  0,  0,  0,  0,  0,\n",
            "   0,  0,  0,  0,  0,  0,  0, 39]]\n"
          ]
        }
      ],
      "source": [
        "\n",
        "model_name2 = \"Random Forest\"\n",
        "model2 = RandomForestClassifier(n_estimators=100, random_state=42)\n",
        "\n",
        "model2.fit(X_train, y_train)\n",
        "\n",
        "# Test the model\n",
        "predictions = model2.predict(X_test)\n",
        "\n",
        "# Calculate accuracy\n",
        "accuracy = accuracy_score(y_test, predictions)\n",
        "print(f\"{model_name2} Accuracy: {accuracy}\")\n",
        "\n",
        "# Calculate confusion matrix\n",
        "cm = confusion_matrix(y_test, predictions)\n",
        "print(f\"{model_name2} Confusion Matrix:\")\n",
        "print(np.array2string(cm, separator=', '))"
      ]
    },
    {
      "cell_type": "code",
      "execution_count": null,
      "metadata": {
        "colab": {
          "base_uri": "https://localhost:8080/"
        },
        "id": "Yz74sTLXGjiD",
        "outputId": "4efa38ea-ea8d-42ee-d9f5-ff2a4c18d2d9"
      },
      "outputs": [
        {
          "output_type": "stream",
          "name": "stdout",
          "text": [
            "Gradient Boosting Accuracy: 1.0\n",
            "Gradient Boosting Confusion Matrix:\n",
            "[[40,  0,  0, ...,  0,  0,  0],\n",
            " [ 0, 43,  0, ...,  0,  0,  0],\n",
            " [ 0,  0, 28, ...,  0,  0,  0],\n",
            " ...,\n",
            " [ 0,  0,  0, ..., 34,  0,  0],\n",
            " [ 0,  0,  0, ...,  0, 41,  0],\n",
            " [ 0,  0,  0, ...,  0,  0, 31]]\n"
          ]
        }
      ],
      "source": [
        "model_name3 = \"Gradient Boosting\"\n",
        "model3 = GradientBoostingClassifier(n_estimators=100, random_state=42)\n",
        "\n",
        "model3.fit(X_train, y_train)\n",
        "\n",
        "# Test the model\n",
        "predictions = model3.predict(X_test)\n",
        "\n",
        "# Calculate accuracy\n",
        "accuracy = accuracy_score(y_test, predictions)\n",
        "print(f\"{model_name3} Accuracy: {accuracy}\")\n",
        "\n",
        "# Calculate confusion matrix\n",
        "cm = confusion_matrix(y_test, predictions)\n",
        "print(f\"{model_name3} Confusion Matrix:\")\n",
        "print(np.array2string(cm, separator=', '))"
      ]
    },
    {
      "cell_type": "code",
      "execution_count": null,
      "metadata": {
        "colab": {
          "base_uri": "https://localhost:8080/"
        },
        "id": "U0yvn0a9Gp4R",
        "outputId": "9003ce21-76d0-4da5-e7d8-249d7eda2862"
      },
      "outputs": [
        {
          "output_type": "stream",
          "name": "stdout",
          "text": [
            "KNeighbors Accuracy: 1.0\n",
            "KNeighbors Confusion Matrix:\n",
            "[[40,  0,  0, ...,  0,  0,  0],\n",
            " [ 0, 43,  0, ...,  0,  0,  0],\n",
            " [ 0,  0, 28, ...,  0,  0,  0],\n",
            " ...,\n",
            " [ 0,  0,  0, ..., 34,  0,  0],\n",
            " [ 0,  0,  0, ...,  0, 41,  0],\n",
            " [ 0,  0,  0, ...,  0,  0, 31]]\n"
          ]
        }
      ],
      "source": [
        "model_name4 = \"KNeighbors\"\n",
        "model4 = KNeighborsClassifier(n_neighbors=5)\n",
        "\n",
        "model4.fit(X_train, y_train)\n",
        "\n",
        "# Test the model\n",
        "predictions = model4.predict(X_test)\n",
        "\n",
        "# Calculate accuracy\n",
        "accuracy = accuracy_score(y_test, predictions)\n",
        "print(f\"{model_name4} Accuracy: {accuracy}\")\n",
        "\n",
        "# Calculate confusion matrix\n",
        "cm = confusion_matrix(y_test, predictions)\n",
        "print(f\"{model_name4} Confusion Matrix:\")\n",
        "print(np.array2string(cm, separator=', '))"
      ]
    },
    {
      "cell_type": "code",
      "execution_count": null,
      "metadata": {
        "colab": {
          "base_uri": "https://localhost:8080/"
        },
        "id": "XyMgmyPUGqpz",
        "outputId": "d422b31e-6c92-471e-d111-f311899bd9a5"
      },
      "outputs": [
        {
          "output_type": "stream",
          "name": "stdout",
          "text": [
            "Multinomial NB Accuracy: 1.0\n",
            "Multinomial NB Confusion Matrix:\n",
            "[[40,  0,  0, ...,  0,  0,  0],\n",
            " [ 0, 43,  0, ...,  0,  0,  0],\n",
            " [ 0,  0, 28, ...,  0,  0,  0],\n",
            " ...,\n",
            " [ 0,  0,  0, ..., 34,  0,  0],\n",
            " [ 0,  0,  0, ...,  0, 41,  0],\n",
            " [ 0,  0,  0, ...,  0,  0, 31]]\n"
          ]
        }
      ],
      "source": [
        "model_name5 = \"Multinomial NB\"\n",
        "model5 = MultinomialNB()\n",
        "\n",
        "model5.fit(X_train, y_train)\n",
        "\n",
        "# Test the model\n",
        "predictions = model5.predict(X_test)\n",
        "\n",
        "# Calculate accuracy\n",
        "accuracy = accuracy_score(y_test, predictions)\n",
        "print(f\"{model_name5} Accuracy: {accuracy}\")\n",
        "\n",
        "# Calculate confusion matrix\n",
        "cm = confusion_matrix(y_test, predictions)\n",
        "print(f\"{model_name5} Confusion Matrix:\")\n",
        "print(np.array2string(cm, separator=', '))"
      ]
    },
    {
      "cell_type": "markdown",
      "metadata": {
        "id": "TqbyahsmKFoq"
      },
      "source": [
        "## Dumping one of the model into a pickle file"
      ]
    },
    {
      "cell_type": "code",
      "execution_count": null,
      "metadata": {
        "id": "5B3IDfS3H4bA"
      },
      "outputs": [],
      "source": [
        "pickle.dump(model1,open('svc.pkl','wb'))"
      ]
    },
    {
      "cell_type": "code",
      "source": [
        "pickle.dump(model2,open('random.pkl','wb'))"
      ],
      "metadata": {
        "id": "-5CEgXsqEsIU"
      },
      "execution_count": 12,
      "outputs": []
    },
    {
      "cell_type": "code",
      "execution_count": null,
      "metadata": {
        "id": "TQak1nP0rq_Y"
      },
      "outputs": [],
      "source": [
        "svc = pickle.load(open('svc.pkl','rb'))"
      ]
    },
    {
      "cell_type": "code",
      "source": [
        "randomForest = pickle.load(open('random.pkl','rb'))"
      ],
      "metadata": {
        "id": "ZFtA_pjxEri4"
      },
      "execution_count": 13,
      "outputs": []
    },
    {
      "cell_type": "code",
      "execution_count": 14,
      "metadata": {
        "id": "CdE6aBpKrq_Y"
      },
      "outputs": [],
      "source": [
        "sym_des = pd.read_csv(\"symtoms_df.csv\")\n",
        "precautions = pd.read_csv(\"precautions_df.csv\")\n",
        "workout = pd.read_csv(\"workout_df.csv\")\n",
        "description = pd.read_csv(\"description.csv\")\n",
        "medications = pd.read_csv('medications.csv')\n",
        "diets = pd.read_csv(\"diets.csv\")"
      ]
    },
    {
      "cell_type": "code",
      "execution_count": 15,
      "metadata": {
        "id": "9SVBIpytrq_Z"
      },
      "outputs": [],
      "source": [
        "symptoms_dict = {'itching': 0, 'skin_rash': 1, 'nodal_skin_eruptions': 2, 'continuous_sneezing': 3, 'shivering': 4, 'chills': 5, 'joint_pain': 6, 'stomach_pain': 7, 'acidity': 8, 'ulcers_on_tongue': 9, 'muscle_wasting': 10, 'vomiting': 11, 'burning_micturition': 12, 'spotting_ urination': 13, 'fatigue': 14, 'weight_gain': 15, 'anxiety': 16, 'cold_hands_and_feets': 17, 'mood_swings': 18, 'weight_loss': 19, 'restlessness': 20, 'lethargy': 21, 'patches_in_throat': 22, 'irregular_sugar_level': 23, 'cough': 24, 'high_fever': 25, 'sunken_eyes': 26, 'breathlessness': 27, 'sweating': 28, 'dehydration': 29, 'indigestion': 30, 'headache': 31, 'yellowish_skin': 32, 'dark_urine': 33, 'nausea': 34, 'loss_of_appetite': 35, 'pain_behind_the_eyes': 36, 'back_pain': 37, 'constipation': 38, 'abdominal_pain': 39, 'diarrhoea': 40, 'mild_fever': 41, 'yellow_urine': 42, 'yellowing_of_eyes': 43, 'acute_liver_failure': 44, 'fluid_overload': 45, 'swelling_of_stomach': 46, 'swelled_lymph_nodes': 47, 'malaise': 48, 'blurred_and_distorted_vision': 49, 'phlegm': 50, 'throat_irritation': 51, 'redness_of_eyes': 52, 'sinus_pressure': 53, 'runny_nose': 54, 'congestion': 55, 'chest_pain': 56, 'weakness_in_limbs': 57, 'fast_heart_rate': 58, 'pain_during_bowel_movements': 59, 'pain_in_anal_region': 60, 'bloody_stool': 61, 'irritation_in_anus': 62, 'neck_pain': 63, 'dizziness': 64, 'cramps': 65, 'bruising': 66, 'obesity': 67, 'swollen_legs': 68, 'swollen_blood_vessels': 69, 'puffy_face_and_eyes': 70, 'enlarged_thyroid': 71, 'brittle_nails': 72, 'swollen_extremeties': 73, 'excessive_hunger': 74, 'extra_marital_contacts': 75, 'drying_and_tingling_lips': 76, 'slurred_speech': 77, 'knee_pain': 78, 'hip_joint_pain': 79, 'muscle_weakness': 80, 'stiff_neck': 81, 'swelling_joints': 82, 'movement_stiffness': 83, 'spinning_movements': 84, 'loss_of_balance': 85, 'unsteadiness': 86, 'weakness_of_one_body_side': 87, 'loss_of_smell': 88, 'bladder_discomfort': 89, 'foul_smell_of urine': 90, 'continuous_feel_of_urine': 91, 'passage_of_gases': 92, 'internal_itching': 93, 'toxic_look_(typhos)': 94, 'depression': 95, 'irritability': 96, 'muscle_pain': 97, 'altered_sensorium': 98, 'red_spots_over_body': 99, 'belly_pain': 100, 'abnormal_menstruation': 101, 'dischromic _patches': 102, 'watering_from_eyes': 103, 'increased_appetite': 104, 'polyuria': 105, 'family_history': 106, 'mucoid_sputum': 107, 'rusty_sputum': 108, 'lack_of_concentration': 109, 'visual_disturbances': 110, 'receiving_blood_transfusion': 111, 'receiving_unsterile_injections': 112, 'coma': 113, 'stomach_bleeding': 114, 'distention_of_abdomen': 115, 'history_of_alcohol_consumption': 116, 'fluid_overload.1': 117, 'blood_in_sputum': 118, 'prominent_veins_on_calf': 119, 'palpitations': 120, 'painful_walking': 121, 'pus_filled_pimples': 122, 'blackheads': 123, 'scurring': 124, 'skin_peeling': 125, 'silver_like_dusting': 126, 'small_dents_in_nails': 127, 'inflammatory_nails': 128, 'blister': 129, 'red_sore_around_nose': 130, 'yellow_crust_ooze': 131}\n",
        "diseases_list = {15: 'Fungal infection', 4: 'Allergy', 16: 'GERD', 9: 'Chronic cholestasis', 14: 'Drug Reaction', 33: 'Peptic ulcer diseae', 1: 'AIDS', 12: 'Diabetes ', 17: 'Gastroenteritis', 6: 'Bronchial Asthma', 23: 'Hypertension ', 30: 'Migraine', 7: 'Cervical spondylosis', 32: 'Paralysis (brain hemorrhage)', 28: 'Jaundice', 29: 'Malaria', 8: 'Chicken pox', 11: 'Dengue', 37: 'Typhoid', 40: 'hepatitis A', 19: 'Hepatitis B', 20: 'Hepatitis C', 21: 'Hepatitis D', 22: 'Hepatitis E', 3: 'Alcoholic hepatitis', 36: 'Tuberculosis', 10: 'Common Cold', 34: 'Pneumonia', 13: 'Dimorphic hemmorhoids(piles)', 18: 'Heart attack', 39: 'Varicose veins', 26: 'Hypothyroidism', 24: 'Hyperthyroidism', 25: 'Hypoglycemia', 31: 'Osteoarthristis', 5: 'Arthritis', 0: '(vertigo) Paroymsal  Positional Vertigo', 2: 'Acne', 38: 'Urinary tract infection', 35: 'Psoriasis', 27: 'Impetigo'}\n",
        "\n",
        "\n",
        "# Function to preprocess and correct spelling of the text\n",
        "def preprocess_and_correct(text, spell):\n",
        "    # Lowercase, remove punctuation, split into words, and correct spelling\n",
        "    corrected_words = []\n",
        "    for word in text.lower().replace('_', ' ').split():\n",
        "        corrected_word = spell.correction(word)\n",
        "        # Only append if corrected_word is not None\n",
        "        if corrected_word is not None:\n",
        "            corrected_words.append(corrected_word)\n",
        "        else:\n",
        "            # If the corrected word is None, append the original word\n",
        "            corrected_words.append(word)\n",
        "    return ' '.join(corrected_words)\n",
        "\n",
        "# Your symptoms dictionary\n",
        "\n",
        "# Instantiate spell checker\n",
        "spell = SpellChecker()\n",
        "\n",
        "# # Create a corpus of unique symptoms from your dictionary, preprocessed and spell-corrected\n",
        "symptom_corpus = [preprocess_and_correct(symptom, spell) for symptom in symptoms_dict.keys()]\n",
        "vectorizer = TfidfVectorizer().fit(symptom_corpus)  # Train a TF-IDF vectorizer on the corrected symptoms corpus\n",
        "\n",
        "# Function to find the closest symptom from the dictionary to the user's input\n",
        "def find_closest_symptoms(user_symptoms, symptoms_dict, vectorizer, spell):\n",
        "    corrected_user_symptoms = [preprocess_and_correct(symptom, spell) for symptom in user_symptoms]\n",
        "    user_symptom_vectors = vectorizer.transform(corrected_user_symptoms)\n",
        "    dict_symptom_vectors = vectorizer.transform(symptom_corpus)\n",
        "    closest_symptoms = []\n",
        "    for user_vector in user_symptom_vectors:\n",
        "        similarities = cosine_similarity(user_vector, dict_symptom_vectors)\n",
        "        closest_symptom_index = np.argmax(similarities)\n",
        "        closest_symptom = list(symptoms_dict.keys())[closest_symptom_index]\n",
        "        closest_symptoms.append(closest_symptom)\n",
        "    return closest_symptoms"
      ]
    },
    {
      "cell_type": "code",
      "execution_count": 16,
      "metadata": {
        "id": "Z1Oh6Vh4rq_Z"
      },
      "outputs": [],
      "source": [
        "#============================================================\n",
        "# custome and helping functions\n",
        "#==========================helper funtions================\n",
        "def helper(dis):\n",
        "    desc = description[description['Disease'] == predicted_disease]['Description']\n",
        "    desc = \" \".join([w for w in desc])\n",
        "\n",
        "    pre = precautions[precautions['Disease'] == dis][['Precaution_1', 'Precaution_2', 'Precaution_3', 'Precaution_4']]\n",
        "    pre = [col for col in pre.values]\n",
        "\n",
        "    med = medications[medications['Disease'] == dis]['Medication']\n",
        "    med = [med for med in med.values]\n",
        "\n",
        "    die = diets[diets['Disease'] == dis]['Diet']\n",
        "    die = [die for die in die.values]\n",
        "\n",
        "    wrkout = workout[workout['disease'] == dis] ['workout']\n",
        "\n",
        "\n",
        "    return desc,pre,med,die,wrkout\n",
        "\n",
        "symptoms_dict = {'itching': 0, 'skin_rash': 1, 'nodal_skin_eruptions': 2, 'continuous_sneezing': 3, 'shivering': 4, 'chills': 5, 'joint_pain': 6, 'stomach_pain': 7, 'acidity': 8, 'ulcers_on_tongue': 9, 'muscle_wasting': 10, 'vomiting': 11, 'burning_micturition': 12, 'spotting_ urination': 13, 'fatigue': 14, 'weight_gain': 15, 'anxiety': 16, 'cold_hands_and_feets': 17, 'mood_swings': 18, 'weight_loss': 19, 'restlessness': 20, 'lethargy': 21, 'patches_in_throat': 22, 'irregular_sugar_level': 23, 'cough': 24, 'high_fever': 25, 'sunken_eyes': 26, 'breathlessness': 27, 'sweating': 28, 'dehydration': 29, 'indigestion': 30, 'headache': 31, 'yellowish_skin': 32, 'dark_urine': 33, 'nausea': 34, 'loss_of_appetite': 35, 'pain_behind_the_eyes': 36, 'back_pain': 37, 'constipation': 38, 'abdominal_pain': 39, 'diarrhoea': 40, 'mild_fever': 41, 'yellow_urine': 42, 'yellowing_of_eyes': 43, 'acute_liver_failure': 44, 'fluid_overload': 45, 'swelling_of_stomach': 46, 'swelled_lymph_nodes': 47, 'malaise': 48, 'blurred_and_distorted_vision': 49, 'phlegm': 50, 'throat_irritation': 51, 'redness_of_eyes': 52, 'sinus_pressure': 53, 'runny_nose': 54, 'congestion': 55, 'chest_pain': 56, 'weakness_in_limbs': 57, 'fast_heart_rate': 58, 'pain_during_bowel_movements': 59, 'pain_in_anal_region': 60, 'bloody_stool': 61, 'irritation_in_anus': 62, 'neck_pain': 63, 'dizziness': 64, 'cramps': 65, 'bruising': 66, 'obesity': 67, 'swollen_legs': 68, 'swollen_blood_vessels': 69, 'puffy_face_and_eyes': 70, 'enlarged_thyroid': 71, 'brittle_nails': 72, 'swollen_extremeties': 73, 'excessive_hunger': 74, 'extra_marital_contacts': 75, 'drying_and_tingling_lips': 76, 'slurred_speech': 77, 'knee_pain': 78, 'hip_joint_pain': 79, 'muscle_weakness': 80, 'stiff_neck': 81, 'swelling_joints': 82, 'movement_stiffness': 83, 'spinning_movements': 84, 'loss_of_balance': 85, 'unsteadiness': 86, 'weakness_of_one_body_side': 87, 'loss_of_smell': 88, 'bladder_discomfort': 89, 'foul_smell_of urine': 90, 'continuous_feel_of_urine': 91, 'passage_of_gases': 92, 'internal_itching': 93, 'toxic_look_(typhos)': 94, 'depression': 95, 'irritability': 96, 'muscle_pain': 97, 'altered_sensorium': 98, 'red_spots_over_body': 99, 'belly_pain': 100, 'abnormal_menstruation': 101, 'dischromic _patches': 102, 'watering_from_eyes': 103, 'increased_appetite': 104, 'polyuria': 105, 'family_history': 106, 'mucoid_sputum': 107, 'rusty_sputum': 108, 'lack_of_concentration': 109, 'visual_disturbances': 110, 'receiving_blood_transfusion': 111, 'receiving_unsterile_injections': 112, 'coma': 113, 'stomach_bleeding': 114, 'distention_of_abdomen': 115, 'history_of_alcohol_consumption': 116, 'fluid_overload.1': 117, 'blood_in_sputum': 118, 'prominent_veins_on_calf': 119, 'palpitations': 120, 'painful_walking': 121, 'pus_filled_pimples': 122, 'blackheads': 123, 'scurring': 124, 'skin_peeling': 125, 'silver_like_dusting': 126, 'small_dents_in_nails': 127, 'inflammatory_nails': 128, 'blister': 129, 'red_sore_around_nose': 130, 'yellow_crust_ooze': 131}\n",
        "\n",
        "# Model Prediction function\n",
        "def get_predicted_value(patient_symptoms):\n",
        "    input_vector = np.zeros(len(symptoms_dict))\n",
        "    for item in patient_symptoms:\n",
        "        input_vector[symptoms_dict[item]] = 1\n",
        "    return diseases_list[randomForest.predict([input_vector])[0]]\n",
        "\n",
        "\n"
      ]
    },
    {
      "cell_type": "code",
      "execution_count": 23,
      "metadata": {
        "colab": {
          "base_uri": "https://localhost:8080/"
        },
        "id": "Soa-Yx_Drq_a",
        "outputId": "e95409cd-812f-4e51-f5cc-8098d7213dd6"
      },
      "outputs": [
        {
          "output_type": "stream",
          "name": "stdout",
          "text": [
            "Enter your symptoms.......runny_nose,redness_of_eyes,throat_irritation,continuous_sneezing,chest_pain\n",
            "=================predicted disease============\n",
            "Migraine\n",
            "=================description==================\n",
            "Migraine is a type of headache that often involves severe pain and sensitivity to light and sound.\n",
            "=================precautions==================\n",
            "1 :  meditation\n",
            "2 :  reduce stress\n",
            "3 :  use poloroid glasses in sun\n",
            "4 :  consult doctor\n",
            "=================medications==================\n",
            "5 :  ['Analgesics', 'Triptans', 'Ergotamine derivatives', 'Preventive medications', 'Biofeedback']\n",
            "=================workout==================\n",
            "6 :  Identify and avoid trigger foods\n",
            "7 :  Stay hydrated\n",
            "8 :  Include magnesium-rich foods\n",
            "9 :  Consume omega-3 fatty acids\n",
            "10 :  Limit caffeine and alcohol\n",
            "11 :  Consume riboflavin-rich foods\n",
            "12 :  Limit processed foods\n",
            "13 :  Maintain regular meal times\n",
            "14 :  Consult a healthcare professional\n",
            "15 :  Manage stress\n",
            "=================diets==================\n",
            "16 :  ['Migraine Diet', 'Low-Tyramine Diet', 'Caffeine withdrawal', 'Hydration', 'Magnesium-rich foods']\n"
          ]
        },
        {
          "output_type": "stream",
          "name": "stderr",
          "text": [
            "/usr/local/lib/python3.10/dist-packages/sklearn/base.py:439: UserWarning: X does not have valid feature names, but RandomForestClassifier was fitted with feature names\n",
            "  warnings.warn(\n"
          ]
        }
      ],
      "source": [
        "# Test 1\n",
        "# Split the user's input into a list of symptoms (assuming they are comma-separated) # itching,skin_rash,nodal_skin_eruptions\n",
        "symptoms = input(\"Enter your symptoms.......\")\n",
        "user_symptoms = [s.strip() for s in symptoms.split(',')]\n",
        "# Remove any extra characters, if any\n",
        "user_symptoms = [symptom.strip(\"[]' \") for symptom in user_symptoms]\n",
        "# closest_symptoms = find_closest_symptoms(user_symptoms, symptoms_dict, vectorizer, spell)\n",
        "# print(closest_symptoms)\n",
        "predicted_disease = get_predicted_value(user_symptoms)\n",
        "\n",
        "desc, pre, med, die, wrkout = helper(predicted_disease)\n",
        "\n",
        "print(\"=================predicted disease============\")\n",
        "print(predicted_disease)\n",
        "print(\"=================description==================\")\n",
        "print(desc)\n",
        "print(\"=================precautions==================\")\n",
        "i = 1\n",
        "for p_i in pre[0]:\n",
        "    print(i, \": \", p_i)\n",
        "    i += 1\n",
        "\n",
        "print(\"=================medications==================\")\n",
        "for m_i in med:\n",
        "    print(i, \": \", m_i)\n",
        "    i += 1\n",
        "\n",
        "print(\"=================workout==================\")\n",
        "for w_i in wrkout:\n",
        "    print(i, \": \", w_i)\n",
        "    i += 1\n",
        "\n",
        "print(\"=================diets==================\")\n",
        "for d_i in die:\n",
        "    print(i, \": \", d_i)\n",
        "    i += 1\n"
      ]
    },
    {
      "cell_type": "code",
      "source": [],
      "metadata": {
        "id": "NfKi4BbyLRTW"
      },
      "execution_count": null,
      "outputs": []
    },
    {
      "cell_type": "code",
      "source": [],
      "metadata": {
        "id": "uIn4IicNWJDc"
      },
      "execution_count": null,
      "outputs": []
    },
    {
      "cell_type": "code",
      "source": [],
      "metadata": {
        "id": "XM-oi-IjMSla"
      },
      "execution_count": null,
      "outputs": []
    },
    {
      "cell_type": "code",
      "source": [],
      "metadata": {
        "id": "IU-vl0EqMW1p"
      },
      "execution_count": null,
      "outputs": []
    },
    {
      "cell_type": "code",
      "source": [],
      "metadata": {
        "id": "NYKthQ24Ma5E"
      },
      "execution_count": null,
      "outputs": []
    },
    {
      "cell_type": "code",
      "source": [],
      "metadata": {
        "id": "LZBETZUDMeON"
      },
      "execution_count": null,
      "outputs": []
    },
    {
      "cell_type": "code",
      "source": [],
      "metadata": {
        "id": "h381bmHVMx5-"
      },
      "execution_count": null,
      "outputs": []
    }
  ],
  "metadata": {
    "colab": {
      "provenance": []
    },
    "kernelspec": {
      "display_name": "Python 3",
      "name": "python3"
    },
    "language_info": {
      "name": "python"
    }
  },
  "nbformat": 4,
  "nbformat_minor": 0
}
